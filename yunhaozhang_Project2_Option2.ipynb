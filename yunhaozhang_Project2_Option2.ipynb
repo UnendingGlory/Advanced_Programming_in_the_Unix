{
  "nbformat": 4,
  "nbformat_minor": 0,
  "metadata": {
    "colab": {
      "provenance": [],
      "authorship_tag": "ABX9TyMlAy15AY1VCyfgPc1c8J12",
      "include_colab_link": true
    },
    "kernelspec": {
      "name": "python3",
      "display_name": "Python 3"
    },
    "language_info": {
      "name": "python"
    }
  },
  "cells": [
    {
      "cell_type": "markdown",
      "metadata": {
        "id": "view-in-github",
        "colab_type": "text"
      },
      "source": [
        "<a href=\"https://colab.research.google.com/github/UnendingGlory/Advanced_Programming_in_the_Unix/blob/master/yunhaozhang_Project2_Option2.ipynb\" target=\"_parent\"><img src=\"https://colab.research.google.com/assets/colab-badge.svg\" alt=\"Open In Colab\"/></a>"
      ]
    },
    {
      "cell_type": "markdown",
      "source": [
        "Here I choose option 2 as the programming project.\n",
        "\n",
        "## Question 2.1\n",
        "First, in quesiont 2.1, we need to use the Trapezium rule to caculate the area of the function to approximate the actual area.\n",
        "\n",
        "Each eara is a trapezium, and can be calculated by the euqation.\n",
        "\n",
        "First, We define the mathematical function $ f(x) = 10 + x^2 - 0.1 \\cdot x^3 $ as below."
      ],
      "metadata": {
        "id": "liXl0S_pRbWn"
      }
    },
    {
      "cell_type": "code",
      "source": [
        "def f(x):\n",
        "    return 10 + x * x - 0.1 * (x**3)"
      ],
      "metadata": {
        "id": "FofvCq9oRsVN"
      },
      "execution_count": null,
      "outputs": []
    },
    {
      "cell_type": "markdown",
      "source": [
        "Then, we calculate the area under the f(x) and 0 between [-10, 10], using the integral method, to get the actual area.\n",
        "\n",
        "$\\int_{-10}^{10} \\left(10 + x^2 - 0.1 \\cdot x^3\\right) \\,dx = (10x+\\frac{1}{3}x^2+\\frac{0.1}{4}x^3) |^{10}_{-10}= 866.6666....$\n",
        "\n",
        "So we can define the actual area as a variable, and the erro we can tolerate."
      ],
      "metadata": {
        "id": "ITJ3DOQWSdWY"
      }
    },
    {
      "cell_type": "code",
      "source": [
        "desired = 866.666667\n",
        "error = 1e-5"
      ],
      "metadata": {
        "id": "eeeEFIU0TWm6"
      },
      "execution_count": null,
      "outputs": []
    },
    {
      "cell_type": "markdown",
      "source": [
        "Then, we can define a range [lower_limit, upper_limit], and divide it into smaller intervals of different sizes (0.1, 0.05, 0.001). It iterates through these intervals, calculating the area within each interval using the trapezoidal rule.\n",
        "\n",
        "It loops through the intervals and calculates the area under the curve for each interval.\n",
        "The iteration uses the trapezoidal rule formula to sum up the areas of trapezoids formed by the curve and the x-axis within each interval."
      ],
      "metadata": {
        "id": "vsKIJgZ2TjP9"
      }
    },
    {
      "cell_type": "code",
      "execution_count": null,
      "metadata": {
        "colab": {
          "base_uri": "https://localhost:8080/"
        },
        "id": "cTw5iPZfOH7N",
        "outputId": "4218f161-b4c1-4b48-fbfb-85361b8f1b80"
      },
      "outputs": [
        {
          "output_type": "stream",
          "name": "stdout",
          "text": [
            "866.666669999996\n"
          ]
        }
      ],
      "source": [
        "lower_limit = -10\n",
        "upper_limit = 10\n",
        "intervals = [0.1, 0.05, 0.001]\n",
        "best_sum = 0\n",
        "min_err = 1e20\n",
        "\n",
        "for interval in intervals:\n",
        "    sum = 0\n",
        "    for i in range(int(lower_limit / interval), int(upper_limit / interval)):\n",
        "        x = i * interval\n",
        "        sum += (f(x) + f(x + interval)) * interval / 2\n",
        "\n",
        "    cur_inteval_err = abs(sum - desired)\n",
        "    if cur_inteval_err < min_err:\n",
        "        best_sum = sum\n",
        "        min_err = cur_inteval_err\n",
        "\n",
        "print(best_sum)\n",
        "assert abs(best_sum - desired) < error"
      ]
    },
    {
      "cell_type": "markdown",
      "source": [
        "## Question 2.2\n",
        "\n",
        "In this Question, we use random sampling to calculate this area.\n",
        "\n",
        "First, set a seed for the random number generator to ensure reproducibility of results."
      ],
      "metadata": {
        "id": "L5pWiSWNT05U"
      }
    },
    {
      "cell_type": "code",
      "source": [
        "##################\n",
        "import random\n",
        "\n",
        "random.seed(123)\n"
      ],
      "metadata": {
        "id": "EW2UfntET13Z"
      },
      "execution_count": null,
      "outputs": []
    },
    {
      "cell_type": "markdown",
      "source": [
        "Define the upper and lower bounds of the function.\n",
        "\n",
        "Specify the number of random points to generate. The larger the variable num_points is, more precise is this method. And also the slower is the method.\n",
        "\n",
        "Use random number generation to create random x and y coordinates within the specified range."
      ],
      "metadata": {
        "id": "k5fmxxOgUhH9"
      }
    },
    {
      "cell_type": "code",
      "source": [
        "y_lower_limit = 0\n",
        "y_upper_limit = f(lower_limit)\n",
        "\n",
        "num_points = 50000000\n",
        "\n",
        "points_under_curve = 0\n",
        "x_points = []"
      ],
      "metadata": {
        "id": "8fBZidMAUiSr"
      },
      "execution_count": null,
      "outputs": []
    },
    {
      "cell_type": "markdown",
      "source": [
        "Check if the randomly generated points fall below the curve defined by the function and count the number of points that do.\n",
        "\n",
        "Calculate the ratio of points under the curve to the total number of generated points.\n",
        "\n",
        "Estimate the area under the curve by multiplying this ratio by the area of the enclosing rectangle, which is (upper_limit − lower_limit) * (y_upper_limit − 0).\n",
        "\n",
        "Output the estimated area under the curve."
      ],
      "metadata": {
        "id": "zkQfrN1yU81W"
      }
    },
    {
      "cell_type": "code",
      "source": [
        "for _ in range(num_points):\n",
        "    x = random.random() * (upper_limit - lower_limit) + lower_limit\n",
        "    y = random.random() * (y_upper_limit - y_lower_limit) + y_lower_limit\n",
        "\n",
        "    if y <= f(x):\n",
        "        points_under_curve += 1\n",
        "\n",
        "ratio = points_under_curve / num_points\n",
        "\n",
        "area_rectangle = (upper_limit - lower_limit) * (y_upper_limit - 0)\n",
        "\n",
        "estimated_area = area_rectangle * ratio\n",
        "\n",
        "print(f\"Estimated area under the curve: {estimated_area}\")"
      ],
      "metadata": {
        "colab": {
          "base_uri": "https://localhost:8080/"
        },
        "id": "9eMkF449U-Sr",
        "outputId": "2a46b440-3697-48e7-a1be-fe582593313c"
      },
      "execution_count": null,
      "outputs": [
        {
          "output_type": "stream",
          "name": "stdout",
          "text": [
            "Estimated area under the curve: 866.520312\n"
          ]
        }
      ]
    }
  ]
}